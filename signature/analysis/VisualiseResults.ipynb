{
 "cells": [
  {
   "cell_type": "code",
   "execution_count": null,
   "metadata": {},
   "outputs": [],
   "source": [
    "import glob\n",
    "import matplotlib.pyplot as plt\n",
    "import numpy as np\n",
    "import pandas as pd\n",
    "import pickle\n",
    "from sbi import analysis as analysis\n",
    "import scipy.stats\n",
    "import seaborn as sns\n",
    "sns.set_context(\"talk\")"
   ]
  },
  {
   "cell_type": "code",
   "execution_count": null,
   "metadata": {},
   "outputs": [],
   "source": [
    "from signature.utils import compute_metrics\n",
    "import importlib"
   ]
  },
  {
   "cell_type": "code",
   "execution_count": null,
   "metadata": {},
   "outputs": [],
   "source": [
    "from matplotlib.lines import Line2D"
   ]
  },
  {
   "cell_type": "markdown",
   "metadata": {},
   "source": [
    "# OU"
   ]
  },
  {
   "cell_type": "code",
   "execution_count": null,
   "metadata": {},
   "outputs": [],
   "source": [
    "ou_true = np.loadtxt(\"./OU_true_samples_05_1.txt\")"
   ]
  },
  {
   "cell_type": "code",
   "execution_count": null,
   "metadata": {},
   "outputs": [],
   "source": [
    "analysis.pairplot(ou_true, limits=[[0.,1.], [-2,2]], figsize=(5, 5))"
   ]
  },
  {
   "cell_type": "markdown",
   "metadata": {},
   "source": [
    "### Compute metrics"
   ]
  },
  {
   "cell_type": "code",
   "execution_count": null,
   "metadata": {},
   "outputs": [],
   "source": [
    "ns = [i*100 for i in range(1, 11)]\n",
    "seeds = range(20)"
   ]
  },
  {
   "cell_type": "code",
   "execution_count": null,
   "metadata": {
    "scrolled": true
   },
   "outputs": [],
   "source": [
    "ou_sig_wds, _, ou_sig_mds = compute_metrics.metrics(ns, seeds,\n",
    "                                            \"./OU/{0}/signature_{1}_1_100_samples.txt\",\n",
    "                                            ou_true, sliced=False)"
   ]
  },
  {
   "cell_type": "code",
   "execution_count": null,
   "metadata": {},
   "outputs": [],
   "source": [
    "ou_gru_wds, _, ou_gru_mds = compute_metrics.metrics(ns, seeds,\n",
    "                                            \"./OU/{0}/gru-resnet_{1}_samples.txt\",\n",
    "                                            ou_true, sliced=False)"
   ]
  },
  {
   "cell_type": "code",
   "execution_count": null,
   "metadata": {},
   "outputs": [],
   "source": [
    "ou_hc_wds, _, ou_hc_mds = compute_metrics.metrics(ns, seeds,\n",
    "                                            \"./OU/{0}/hc_{1}_samples.txt\",\n",
    "                                            ou_true, sliced=False)"
   ]
  },
  {
   "cell_type": "code",
   "execution_count": null,
   "metadata": {},
   "outputs": [],
   "source": [
    "ou_k2_wds, _, ou_k2_mds = compute_metrics.metrics(ns, seeds,\n",
    "                                            \"./OU/{0}/k2_{1}_samples.txt\",\n",
    "                                            ou_true, sliced=False)"
   ]
  },
  {
   "cell_type": "markdown",
   "metadata": {},
   "source": [
    "### Distances between means"
   ]
  },
  {
   "cell_type": "code",
   "execution_count": null,
   "metadata": {},
   "outputs": [],
   "source": [
    "df = pd.DataFrame.from_dict(ou_sig_mds)\n",
    "gru_df = pd.DataFrame.from_dict(ou_gru_mds)\n",
    "hc_df = pd.DataFrame.from_dict(ou_hc_mds)\n",
    "k2_df = pd.DataFrame.from_dict(ou_k2_mds)\n",
    "\n",
    "_df = pd.melt(df)\n",
    "_df[\"Method\"] = \"SignatuRE\"\n",
    "\n",
    "_gru_df = pd.melt(gru_df)\n",
    "_gru_df[\"Method\"] = \"GRU-ResNet\"\n",
    "_df = _df.append(_gru_df)\n",
    "\n",
    "_k2_df = pd.melt(k2_df)\n",
    "_k2_df[\"Method\"] = \"K2-RE\"\n",
    "_df = _df.append(_k2_df)\n",
    "\n",
    "ax = sns.lineplot(x=\"variable\", y=\"value\", hue=\"Method\", data=_df, ci=95, style=\"Method\",\n",
    "                  markers=True, dashes=False)\n",
    "\n",
    "_hc_df = pd.melt(hc_df)\n",
    "_hc_df[\"Method\"] = \"Bespoke ResNet\"\n",
    "\n",
    "ax = sns.lineplot(x=\"variable\", y=\"value\", color=\"black\", data=_hc_df, ci=95, linestyle=\":\",\n",
    "                  markers=True, dashes=False)\n",
    "\n",
    "ax.set_ylabel(r\"$\\vert{\\hat{\\theta} - \\hat{\\theta}_{MH}\\vert}^2$\")\n",
    "ax.set_xlabel(\"Number of simulations\")\n",
    "ax.set_ylim([3e-3,3])\n",
    "ax.set_yscale('log')\n",
    "\n",
    "lines = [Line2D([0], [0], marker='o', ls='-', c='steelblue'),\n",
    "         Line2D([0], [0], marker='X', ls='-', c='darkorange'),\n",
    "         Line2D([0], [0], marker='', ls=':', c='black'),\n",
    "         Line2D([0], [0], marker='s', ls='-', c='forestgreen')]\n",
    "\n",
    "plt.legend(lines, [\"SignatuRE\", \"GRU-ResNet\", \"Bespoke ResNet\", \"K2-RE\"], loc='upper right', fontsize=12, ncol=2)"
   ]
  },
  {
   "cell_type": "markdown",
   "metadata": {},
   "source": [
    "### Plot posteriors"
   ]
  },
  {
   "cell_type": "code",
   "execution_count": null,
   "metadata": {},
   "outputs": [],
   "source": [
    "s = 8\n",
    "fig, axes = plt.subplots(2, 2, figsize=(s, s))\n",
    "\n",
    "ou_true_df = pd.DataFrame(ou_true)\n",
    "ou_true_df[\"Method\"] = \"MH\"\n",
    "ou_true_df.columns = [r\"$\\theta_1$\", r\"$\\theta_2$\", \"Method\"]\n",
    "\n",
    "palette = {\"SignatuRE\":\"blue\", \"GRU-ResNet\":\"orange\", \"K2-RE\":\"red\", \"Bespoke ResNet\":\"green\", \"MH\":\"black\"}\n",
    "linestyles = \"--\"\n",
    "\n",
    "seeds = range(20)\n",
    "\n",
    "#############\n",
    "# SignatuRE #\n",
    "#############\n",
    "\n",
    "sigoudf = pd.DataFrame()\n",
    "for seed in seeds:\n",
    "    sig = np.loadtxt(\"./OU/{0}/signature_500_1_100_samples.txt\".format(seed))\n",
    "    sig_df = pd.DataFrame(sig)\n",
    "    sig_df[\"Method\"] = \"SignatuRE\"\n",
    "    sigoudf = sigoudf.append(sig_df)\n",
    "\n",
    "sigoudf.columns = [r\"$\\theta_1$\", r\"$\\theta_2$\", \"Method\"]\n",
    "sigoudf = sigoudf.append(ou_true_df)\n",
    "sns.kdeplot(data=sigoudf, x=r\"$\\theta_1$\", y=r\"$\\theta_2$\", hue=\"Method\", ax=axes[0,0], palette=palette,\n",
    "            legend=False, linestyles=linestyles)\n",
    "\n",
    "##############\n",
    "# GRU-ResNet #\n",
    "##############\n",
    "\n",
    "gruoudf = pd.DataFrame()\n",
    "for seed in seeds:\n",
    "    gru = np.loadtxt(\"./OU/{0}/gru-resnet_500_samples.txt\".format(seed))\n",
    "    gru_df = pd.DataFrame(gru)\n",
    "    gru_df[\"Method\"] = \"GRU-ResNet\"\n",
    "    gruoudf = gruoudf.append(gru_df)\n",
    "\n",
    "gruoudf.columns = [r\"$\\theta_1$\", r\"$\\theta_2$\", \"Method\"]\n",
    "gruoudf = gruoudf.append(ou_true_df)\n",
    "sns.kdeplot(data=gruoudf, x=r\"$\\theta_1$\", y=r\"$\\theta_2$\", hue=\"Method\", ax=axes[0,1], palette=palette,\n",
    "            legend=False, linestyles=linestyles)\n",
    "\n",
    "#############\n",
    "# Bespoke ResNet #\n",
    "#############\n",
    "\n",
    "hcoudf = pd.DataFrame()\n",
    "for seed in seeds:\n",
    "    hc = np.loadtxt(\"./OU/{0}/hc_500_samples.txt\".format(seed))\n",
    "    hc_df = pd.DataFrame(hc)\n",
    "    hc_df[\"Method\"] = \"Bespoke ResNet\"\n",
    "    hcoudf = hcoudf.append(hc_df)\n",
    "\n",
    "hcoudf.columns = [r\"$\\theta_1$\", r\"$\\theta_2$\", \"Method\"]\n",
    "hcoudf = hcoudf.append(ou_true_df)\n",
    "sns.kdeplot(data=hcoudf, x=r\"$\\theta_1$\", y=r\"$\\theta_2$\", hue=\"Method\", ax=axes[1,0], palette=palette,\n",
    "            legend=False, linestyles=linestyles)\n",
    "\n",
    "#########\n",
    "# K2-RE #\n",
    "#########\n",
    "\n",
    "k2oudf = pd.DataFrame()\n",
    "for seed in seeds:\n",
    "    k2 = np.loadtxt(\"./OU/{0}/k2_500_samples.txt\".format(seed))\n",
    "    k2_df = pd.DataFrame(k2)\n",
    "    k2_df[\"Method\"] = \"K2-RE\"\n",
    "    k2oudf = k2oudf.append(k2_df)\n",
    "\n",
    "k2oudf.columns = [r\"$\\theta_1$\", r\"$\\theta_2$\", \"Method\"]\n",
    "k2oudf = k2oudf.append(ou_true_df)\n",
    "\n",
    "sns.kdeplot(data=k2oudf, x=r\"$\\theta_1$\", y=r\"$\\theta_2$\", hue=\"Method\", ax=axes[1,1], palette=palette,\n",
    "            legend=False, linestyles=linestyles)\n",
    "\n",
    "for ax in axes.reshape(-1):\n",
    "    ax.set_xlim([-0.07, 1.07])\n",
    "    ax.set_ylim([-2.07, 2.07])\n",
    "\n",
    "axes[0,0].set_xlabel(\"\")\n",
    "axes[0,0].set_xticklabels(\"\")\n",
    "\n",
    "axes[0,1].set_xlabel(\"\")\n",
    "axes[0,1].set_xticklabels(\"\")\n",
    "\n",
    "axes[0,1].set_ylabel(\"\")\n",
    "axes[0,1].set_yticklabels(\"\")\n",
    "\n",
    "axes[1,1].set_ylabel(\"\")\n",
    "axes[1,1].set_yticklabels(\"\")\n",
    "    \n",
    "space = 0.15\n",
    "plt.subplots_adjust(wspace=space, hspace=space)\n",
    "\n",
    "# handles, labels = axes[1,0].get_legend_handles_labels()\n",
    "labels=[\"SignatuRE\", \"GRU-ResNet\", \"Bespoke ResNet\", \"K2-RE\", \"MH\"]\n",
    "fig.legend(lines, labels, fontsize=14, loc=(0.172,0.9), ncol=3)"
   ]
  },
  {
   "cell_type": "markdown",
   "metadata": {},
   "source": [
    "### Plot WDs"
   ]
  },
  {
   "cell_type": "code",
   "execution_count": null,
   "metadata": {},
   "outputs": [],
   "source": [
    "df = pd.DataFrame.from_dict(ou_sig_wds)\n",
    "gru_df = pd.DataFrame.from_dict(ou_gru_wds)\n",
    "hc_df = pd.DataFrame.from_dict(ou_hc_wds)\n",
    "k2_df = pd.DataFrame.from_dict(ou_k2_wds)\n",
    "\n",
    "_df = pd.melt(df)\n",
    "_df[\"Method\"] = \"SignatuRE\"\n",
    "\n",
    "_gru_df = pd.melt(gru_df)\n",
    "_gru_df[\"Method\"] = \"GRU-ResNet\"\n",
    "_df = _df.append(_gru_df)\n",
    "\n",
    "# _hc_df = pd.melt(hc_df)\n",
    "# _hc_df[\"Method\"] = \"Bespoke ResNet\"\n",
    "# _df = _df.append(_hc_df)\n",
    "\n",
    "_k2_df = pd.melt(k2_df)\n",
    "_k2_df[\"Method\"] = \"K2-RE\"\n",
    "_df = _df.append(_k2_df)\n",
    "\n",
    "ax = sns.lineplot(x=\"variable\", y=\"value\", hue=\"Method\", data=_df, ci=95,\n",
    "                  style=\"Method\", markers=True, dashes=False)\n",
    "\n",
    "_hc_df = pd.melt(hc_df)\n",
    "_hc_df[\"Method\"] = \"Bespoke ResNet\"\n",
    "\n",
    "ax = sns.lineplot(x=\"variable\", y=\"value\", data=_hc_df, ci=95,\n",
    "                  linestyle=\":\", color='black', markers=True, dashes=False)\n",
    "\n",
    "ax.set_ylabel(\"Wasserstein distance\")\n",
    "ax.set_xlabel(\"Number of simulations\")\n",
    "ax.set_ylim([0.07,1.27])\n",
    "\n",
    "lines = [Line2D([0], [0], marker='o', ls='-', c='steelblue'),\n",
    "         Line2D([0], [0], marker='X', ls='-', c='darkorange'),\n",
    "         Line2D([0], [0], marker='', ls=':', c='black'),\n",
    "         Line2D([0], [0], marker='s', ls='-', c='forestgreen')]\n",
    "\n",
    "plt.legend(lines, [\"SignatuRE\", \"GRU-ResNet\", \"Bespoke ResNet\", \"K2-RE\"], loc='upper right', fontsize=12, ncol=2)"
   ]
  },
  {
   "cell_type": "code",
   "execution_count": null,
   "metadata": {},
   "outputs": [],
   "source": [
    "df = pd.DataFrame.from_dict(ou_gru6_wds)\n",
    "gru_df = pd.DataFrame.from_dict(ou_gru_wds)\n",
    "k2_df = pd.DataFrame.from_dict(ou_gru9_wds)\n",
    "\n",
    "_df = pd.melt(df)\n",
    "_df[\"Method\"] = \"GRU6\"\n",
    "\n",
    "_gru_df = pd.melt(gru_df)\n",
    "_gru_df[\"Method\"] = \"GRU-ResNet\"\n",
    "_df = _df.append(_gru_df)\n",
    "\n",
    "# _hc_df = pd.melt(hc_df)\n",
    "# _hc_df[\"Method\"] = \"Bespoke ResNet\"\n",
    "# _df = _df.append(_hc_df)\n",
    "\n",
    "_k2_df = pd.melt(k2_df)\n",
    "_k2_df[\"Method\"] = \"GRU9\"\n",
    "_df = _df.append(_k2_df)\n",
    "\n",
    "ax = sns.lineplot(x=\"variable\", y=\"value\", hue=\"Method\", data=_df, ci=95,\n",
    "                  style=\"Method\", markers=True, dashes=False)\n",
    "\n",
    "ax.set_ylabel(\"Wasserstein distance\")\n",
    "ax.set_xlabel(\"Number of simulations\")\n",
    "ax.set_ylim([0.07,1.27])\n",
    "\n",
    "lines = [Line2D([0], [0], marker='o', ls='-', c='steelblue'),\n",
    "         Line2D([0], [0], marker='X', ls='-', c='darkorange'),\n",
    "         Line2D([0], [0], marker='s', ls='-', c='forestgreen')]\n",
    "\n",
    "plt.legend(lines, [\"GRU6\", \"GRU\", \"GRU9\"], loc='upper right', fontsize=12, ncol=2)"
   ]
  },
  {
   "cell_type": "markdown",
   "metadata": {},
   "source": [
    "# MA2"
   ]
  },
  {
   "cell_type": "code",
   "execution_count": null,
   "metadata": {},
   "outputs": [],
   "source": [
    "ma2_true = np.loadtxt(\"./MA2_samples.txt\")"
   ]
  },
  {
   "cell_type": "code",
   "execution_count": null,
   "metadata": {},
   "outputs": [],
   "source": [
    "_, ax = plt.subplots(1,1,figsize=(4,4))\n",
    "ax.scatter(ma2_true[:,0], ma2_true[:,1], alpha=0.05)\n",
    "ax.set_xlim([-2.05, 2.05])\n",
    "ax.set_ylim([-1.05, 1.05])"
   ]
  },
  {
   "cell_type": "markdown",
   "metadata": {},
   "source": [
    "## Compute metrics"
   ]
  },
  {
   "cell_type": "code",
   "execution_count": null,
   "metadata": {
    "scrolled": true
   },
   "outputs": [],
   "source": [
    "ma2_sig_wds, _, ma2_sig_mds = compute_metrics.metrics(ns, seeds,\n",
    "                            \"./MA2/{0}/signature_{1}_1_samples.txt\",\n",
    "                                           ma2_true, sliced=False)"
   ]
  },
  {
   "cell_type": "code",
   "execution_count": null,
   "metadata": {
    "scrolled": true
   },
   "outputs": [],
   "source": [
    "ma2_gru_wds, _, ma2_gru_mds = compute_metrics.metrics(ns, seeds,\n",
    "                                            \"./MA2/{0}/gru-resnet_{1}_samples.txt\",\n",
    "                                            ma2_true, thin=100, sliced=False)"
   ]
  },
  {
   "cell_type": "code",
   "execution_count": null,
   "metadata": {
    "scrolled": true
   },
   "outputs": [],
   "source": [
    "ma2_hc_wds, _, ma2_hc_mds = compute_metrics.metrics(ns, seeds,\n",
    "                                            \"./MA2/{0}/hc_{1}_samples.txt\",\n",
    "                                            ma2_true, sliced=False)"
   ]
  },
  {
   "cell_type": "code",
   "execution_count": null,
   "metadata": {
    "scrolled": true
   },
   "outputs": [],
   "source": [
    "ma2_k2_wds, _, ma2_k2_mds = compute_metrics.metrics(ns, seeds,\n",
    "                                            \"./MA2/{0}/k2_{1}_samples.txt\",\n",
    "                                            ma2_true, sliced=False)"
   ]
  },
  {
   "cell_type": "markdown",
   "metadata": {},
   "source": [
    "### Plot WDs"
   ]
  },
  {
   "cell_type": "code",
   "execution_count": null,
   "metadata": {},
   "outputs": [],
   "source": [
    "df = pd.DataFrame.from_dict(ma2_sig_wds)\n",
    "gru_df = pd.DataFrame.from_dict(ma2_gru_wds)\n",
    "hc_df = pd.DataFrame.from_dict(ma2_hc_wds)\n",
    "k2_df = pd.DataFrame.from_dict(ma2_k2_wds)\n",
    "\n",
    "_df = pd.melt(df)\n",
    "_df[\"Method\"] = \"SignatuRE\"\n",
    "\n",
    "_gru_df = pd.melt(gru_df)\n",
    "_gru_df[\"Method\"] = \"GRU-ResNet\"\n",
    "_df = _df.append(_gru_df)\n",
    "\n",
    "_hc_df = pd.melt(hc_df)\n",
    "_hc_df[\"Method\"] = \"Bespoke ResNet\"\n",
    "\n",
    "_k2_df = pd.melt(k2_df)\n",
    "_k2_df[\"Method\"] = \"K2-RE\"\n",
    "_df = _df.append(_k2_df)\n",
    "\n",
    "ax = sns.lineplot(x=\"variable\", y=\"value\", hue=\"Method\", data=_df, ci=95,\n",
    "                  style=\"Method\", markers=True, dashes=False)\n",
    "\n",
    "ax = sns.lineplot(x=\"variable\", y=\"value\", color=\"black\", data=_hc_df, ci=95, linestyle=\":\",\n",
    "                  markers=False, dashes=False)\n",
    "\n",
    "ax.set_ylabel(\"Wasserstein distance\")\n",
    "ax.set_xlabel(\"Number of simulations\")\n",
    "ax.set_ylim([0.29,0.98])\n",
    "\n",
    "lines = [Line2D([0], [0], marker='o', ls='-', c='steelblue'),\n",
    "         Line2D([0], [0], marker='X', ls='-', c='darkorange'),\n",
    "         Line2D([0], [0], marker='', ls=':', c='black'),\n",
    "         Line2D([0], [0], marker='s', ls='-', c='forestgreen')]\n",
    "\n",
    "plt.legend(lines, [\"SignatuRE\", \"GRU-ResNet\", \"Bespoke ResNet\", \"K2-RE\"], loc='upper right', fontsize=12, ncol=2)"
   ]
  },
  {
   "cell_type": "markdown",
   "metadata": {},
   "source": [
    "### Distances between means"
   ]
  },
  {
   "cell_type": "code",
   "execution_count": null,
   "metadata": {},
   "outputs": [],
   "source": [
    "df = pd.DataFrame.from_dict(ma2_sig_mds)\n",
    "gru_df = pd.DataFrame.from_dict(ma2_gru_mds)\n",
    "hc_df = pd.DataFrame.from_dict(ma2_hc_mds)\n",
    "k2_df = pd.DataFrame.from_dict(ma2_k2_mds)\n",
    "\n",
    "_df = pd.melt(df)\n",
    "_df[\"Method\"] = \"SignatuRE\"\n",
    "\n",
    "_gru_df = pd.melt(gru_df)\n",
    "_gru_df[\"Method\"] = \"GRU-ResNet\"\n",
    "_df = _df.append(_gru_df)\n",
    "\n",
    "_hc_df = pd.melt(hc_df)\n",
    "_hc_df[\"Method\"] = \"Bespoke ResNet\"\n",
    "\n",
    "_k2_df = pd.melt(k2_df)\n",
    "_k2_df[\"Method\"] = \"K2-RE\"\n",
    "_df = _df.append(_k2_df)\n",
    "\n",
    "ax = sns.lineplot(x=\"variable\", y=\"value\", hue=\"Method\", data=_df, ci=95, style=\"Method\",\n",
    "                  markers=True, dashes=False)\n",
    "\n",
    "ax = sns.lineplot(x=\"variable\", y=\"value\", color=\"black\", data=_hc_df, ci=95, linestyle=\":\",\n",
    "                  markers=False, dashes=False)\n",
    "\n",
    "ax.set_ylabel(r\"$\\vert{\\hat{\\theta} - \\hat{\\theta}_{MH}\\vert}^2$\")\n",
    "ax.set_xlabel(\"Number of simulations\")\n",
    "ax.set_yscale('log')\n",
    "lines = [Line2D([0], [0], marker='o', ls='-', c='steelblue'),\n",
    "         Line2D([0], [0], marker='X', ls='-', c='darkorange'),\n",
    "         Line2D([0], [0], marker='', ls=':', c='black'),\n",
    "         Line2D([0], [0], marker='s', ls='-', c='forestgreen')]\n",
    "\n",
    "plt.legend(lines, [\"SignatuRE\", \"GRU-ResNet\", \"Bespoke ResNet\", \"K2-RE\"], loc='lower left', fontsize=12, ncol=2)"
   ]
  },
  {
   "cell_type": "markdown",
   "metadata": {},
   "source": [
    "### Plot posteriors"
   ]
  },
  {
   "cell_type": "code",
   "execution_count": null,
   "metadata": {},
   "outputs": [],
   "source": [
    "ma2df = pd.DataFrame()\n",
    "for seed in range(20):\n",
    "    sig = np.loadtxt(\"./MA2/{0}/signature_500_1_100_samples.txt\".format(seed))\n",
    "    gru = np.loadtxt(\"./MA2/{0}/gru-resnet_500_samples.txt\".format(seed))\n",
    "    hc = np.loadtxt(\"./MA2/{0}/hc_500_samples.txt\".format(seed))\n",
    "    k2 = np.loadtxt(\"./MA2/{0}/k2_500_samples.txt\".format(seed))\n",
    "    sig_df = pd.DataFrame(sig)\n",
    "    sig_df[\"Method\"] = \"SignatuRE\"\n",
    "    gru_df = pd.DataFrame(gru)\n",
    "    gru_df[\"Method\"] = \"GRU-ResNet\"\n",
    "    hc_df = pd.DataFrame(hc)\n",
    "    hc_df[\"Method\"] = \"HC-ResNet\"\n",
    "    k2_df = pd.DataFrame(k2)\n",
    "    k2_df[\"Method\"] = \"K2-RE\"\n",
    "    ma2df = ma2df.append(sig_df)\n",
    "    ma2df = ma2df.append(gru_df)\n",
    "    ma2df = ma2df.append(hc_df)\n",
    "    ma2df = ma2df.append(k2_df)\n",
    "\n",
    "ma2df.columns = [r\"$\\theta_1$\", r\"$\\theta_2$\", \"Method\"]\n",
    "\n",
    "ma2_true_df = pd.DataFrame(ma2_true)\n",
    "ma2_true_df[\"Method\"] = \"MH\"\n",
    "ma2_true_df.columns = [r\"$\\theta_1$\", r\"$\\theta_2$\", \"Method\"]\n",
    "ma2df = ma2df.append(ma2_true_df)\n",
    "print(ma2df)\n",
    "\n",
    "sns.displot(ma2df, x=r\"$\\theta_1$\", y=r\"$\\theta_2$\", hue=\"Method\", kind=\"kde\")"
   ]
  },
  {
   "cell_type": "code",
   "execution_count": null,
   "metadata": {},
   "outputs": [],
   "source": [
    "sns.displot(ma2df.loc[ma2df[\"Method\"] != \"K2-RE\"], x=r\"$\\theta_1$\", y=r\"$\\theta_2$\", hue=\"Method\", kind=\"kde\")"
   ]
  },
  {
   "cell_type": "markdown",
   "metadata": {},
   "source": [
    "# GSE"
   ]
  },
  {
   "cell_type": "code",
   "execution_count": null,
   "metadata": {},
   "outputs": [],
   "source": [
    "smcabc = np.loadtxt(\"./gse_smcabc_0_samples.txt\")"
   ]
  },
  {
   "cell_type": "code",
   "execution_count": null,
   "metadata": {},
   "outputs": [],
   "source": [
    "plt.scatter(smcabc[:,0], smcabc[:,1], alpha=0.2)"
   ]
  },
  {
   "cell_type": "code",
   "execution_count": null,
   "metadata": {},
   "outputs": [],
   "source": [
    "seeds = list(range(19, 29))\n",
    "budgets = [50,100,200,500,1000]"
   ]
  },
  {
   "cell_type": "markdown",
   "metadata": {},
   "source": [
    "## Compute metrics against SMC-ABC posterior"
   ]
  },
  {
   "cell_type": "code",
   "execution_count": null,
   "metadata": {
    "scrolled": true
   },
   "outputs": [],
   "source": [
    "gs_swd1, _, gs_md1 = compute_metrics.metrics(budgets, seeds,\n",
    "                                  \"./GSE/{0}/signature_{1}_1_50_samples.txt\",\n",
    "                                  smcabc, \n",
    "                                  sliced=False)"
   ]
  },
  {
   "cell_type": "code",
   "execution_count": null,
   "metadata": {
    "scrolled": true
   },
   "outputs": [],
   "source": [
    "gs_swd5, _, gs_md5 = compute_metrics.metrics(budgets, seeds,\n",
    "                                  \"./GSE/{0}/signature_{1}_5_50_samples.txt\",\n",
    "                                  smcabc, \n",
    "                                  sliced=False)"
   ]
  },
  {
   "cell_type": "code",
   "execution_count": null,
   "metadata": {
    "scrolled": true
   },
   "outputs": [],
   "source": [
    "gg_swd, _, gg_md = compute_metrics.metrics(budgets, seeds,\n",
    "                                    \"./GSE/{0}/gru-resnet_{1}_samples.txt\",\n",
    "                                  smcabc, \n",
    "                                  sliced=False)"
   ]
  },
  {
   "cell_type": "code",
   "execution_count": null,
   "metadata": {
    "scrolled": true
   },
   "outputs": [],
   "source": [
    "gk_swd5, _, gk_md5 = compute_metrics.metrics(budgets, seeds,\n",
    "                                    \"./GSE/{0}/k2_{1}_5_50_samples.txt\",\n",
    "                                  smcabc, \n",
    "                                  sliced=False)"
   ]
  },
  {
   "cell_type": "code",
   "execution_count": null,
   "metadata": {
    "scrolled": true
   },
   "outputs": [],
   "source": [
    "gk_swd1, _, gk_md1 = compute_metrics.metrics(budgets, seeds, \n",
    "                                    \"./GSE/{0}/k2_{1}_1_50_samples.txt\",\n",
    "                                  smcabc, \n",
    "                                  sliced=False)"
   ]
  },
  {
   "cell_type": "code",
   "execution_count": null,
   "metadata": {
    "scrolled": true
   },
   "outputs": [],
   "source": [
    "gh_swd, _, gh_md = compute_metrics.metrics(budgets, seeds, \n",
    "                                  \"./GSE/{0}/hc_{1}_samples.txt\",\n",
    "                                  smcabc, \n",
    "                                  sliced=False)"
   ]
  },
  {
   "cell_type": "code",
   "execution_count": null,
   "metadata": {
    "scrolled": true
   },
   "outputs": [],
   "source": [
    "dicts = [gg_swd, gk_swd1, gk_swd5, gs_swd1, gs_swd5, gh_swd]\n",
    "\n",
    "for d in dicts:\n",
    "    print(\" & \".join([\"{:.5f}\".format(np.median(d[i])) for i in budgets]))\n",
    "    print()"
   ]
  }
 ],
 "metadata": {
  "kernelspec": {
   "display_name": "skre",
   "language": "python",
   "name": "skre"
  },
  "language_info": {
   "codemirror_mode": {
    "name": "ipython",
    "version": 3
   },
   "file_extension": ".py",
   "mimetype": "text/x-python",
   "name": "python",
   "nbconvert_exporter": "python",
   "pygments_lexer": "ipython3",
   "version": "3.8.10"
  }
 },
 "nbformat": 4,
 "nbformat_minor": 2
}
